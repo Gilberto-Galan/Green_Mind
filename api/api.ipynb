{
 "cells": [
  {
   "cell_type": "code",
   "execution_count": null,
   "metadata": {},
   "outputs": [],
   "source": [
    "mkdir chatbot\n",
    "cd chatbot\n",
    "npm init -y\n"
   ]
  },
  {
   "cell_type": "markdown",
   "metadata": {},
   "source": [
    "Paso 3: Instalación de dependencias\n",
    "Vamos a necesitar algunas librerías para nuestro proyecto. En tu terminal, ejecuta:"
   ]
  },
  {
   "cell_type": "code",
   "execution_count": null,
   "metadata": {},
   "outputs": [],
   "source": [
    "npm install express openai dotenv\n",
    "\n"
   ]
  },
  {
   "cell_type": "markdown",
   "metadata": {},
   "source": [
    "Paso 4: Configuración de la API de OpenAI\n",
    "Obtén una clave API de OpenAI:\n",
    "\n",
    "Ve a OpenAI y regístrate si no tienes una cuenta.\n",
    "Genera una nueva clave API.\n",
    "Crea un archivo .env en la raíz de tu proyecto y añade tu clave API:"
   ]
  },
  {
   "cell_type": "code",
   "execution_count": null,
   "metadata": {},
   "outputs": [],
   "source": [
    "OPENAI_API_KEY=tu_clave_api\n"
   ]
  },
  {
   "cell_type": "markdown",
   "metadata": {},
   "source": [
    "Paso 5: Desarrollo del chatbot\n",
    "Crea un archivo index.js en la raíz de tu proyecto y añade el siguiente código básico:"
   ]
  },
  {
   "cell_type": "code",
   "execution_count": null,
   "metadata": {},
   "outputs": [],
   "source": [
    "const express = require('express');\n",
    "const { Configuration, OpenAIApi } = require('openai');\n",
    "require('dotenv').config();\n",
    "\n",
    "const app = express();\n",
    "const port = 3000;\n",
    "\n",
    "const configuration = new Configuration({\n",
    "    apiKey: process.env.OPENAI_API_KEY,\n",
    "});\n",
    "\n",
    "const openai = new OpenAIApi(configuration);\n",
    "\n",
    "app.use(express.json());\n",
    "\n",
    "app.post('/chat', async (req, res) => {\n",
    "    const { message } = req.body;\n",
    "\n",
    "    try {\n",
    "        const response = await openai.createChatCompletion({\n",
    "            model: \"gpt-4\",\n",
    "            messages: [{ role: \"user\", content: message }],\n",
    "        });\n",
    "\n",
    "        res.json({\n",
    "            reply: response.data.choices[0].message.content,\n",
    "        });\n",
    "    } catch (error) {\n",
    "        console.error(error);\n",
    "        res.status(500).send('Error communicating with OpenAI API');\n",
    "    }\n",
    "});\n",
    "\n",
    "app.listen(port, () => {\n",
    "    console.log(`Server running on http://localhost:${port}`);\n",
    "});\n"
   ]
  }
 ],
 "metadata": {
  "language_info": {
   "name": "python"
  }
 },
 "nbformat": 4,
 "nbformat_minor": 2
}
